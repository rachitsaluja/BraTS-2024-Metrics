{
 "cells": [
  {
   "cell_type": "code",
   "execution_count": null,
   "id": "f1b40f4c-6979-42ec-a2d2-a20f9f4a0539",
   "metadata": {},
   "outputs": [],
   "source": []
  },
  {
   "cell_type": "code",
   "execution_count": null,
   "id": "71a4d6eb-f21a-49dc-a655-cc876da40553",
   "metadata": {},
   "outputs": [],
   "source": []
  },
  {
   "cell_type": "code",
   "execution_count": null,
   "id": "e70c2911-5eff-4654-a647-2921bffd168d",
   "metadata": {},
   "outputs": [],
   "source": []
  },
  {
   "cell_type": "code",
   "execution_count": null,
   "id": "72ff0dd6-1b80-48ad-88b8-0a2b0501e05e",
   "metadata": {},
   "outputs": [],
   "source": []
  },
  {
   "cell_type": "code",
   "execution_count": null,
   "id": "117d80b3-d71c-4100-b1c3-29573ac70edd",
   "metadata": {},
   "outputs": [],
   "source": []
  },
  {
   "cell_type": "code",
   "execution_count": null,
   "id": "9bc055e9-17ff-4e88-a1c7-93ae56a24153",
   "metadata": {},
   "outputs": [],
   "source": []
  },
  {
   "cell_type": "code",
   "execution_count": null,
   "id": "1ceb3f46-fe88-483c-8f30-997215854f8c",
   "metadata": {},
   "outputs": [],
   "source": []
  },
  {
   "cell_type": "code",
   "execution_count": null,
   "id": "145aa9ac-99e3-4517-b551-c8c572abb09c",
   "metadata": {},
   "outputs": [],
   "source": []
  },
  {
   "cell_type": "code",
   "execution_count": null,
   "id": "1b164c0b-0776-4a0f-813a-3fc5ca8835c9",
   "metadata": {},
   "outputs": [],
   "source": []
  },
  {
   "cell_type": "code",
   "execution_count": 1,
   "id": "47386e67-586d-46b6-b318-9a69bdd85ece",
   "metadata": {},
   "outputs": [],
   "source": [
    "from metrics_SSA import *"
   ]
  },
  {
   "cell_type": "code",
   "execution_count": 2,
   "id": "b936244c-d1f9-41fc-a13b-83f12a5a402f",
   "metadata": {},
   "outputs": [],
   "source": [
    "gt_file = \"/Users/rsaluja/Documents/Cornell/research/projects/BraTS-2024/metrics/all_trials/GT/BraTS-GLI-02065-100-seg.nii.gz\"\n",
    "pred_file = \"/Users/rsaluja/Documents/Cornell/research/projects/BraTS-2024/metrics/all_trials/Pred/BraTS-GLI-02065-100-seg.nii.gz\"\n",
    "challenge_name = \"BraTS-SSA\""
   ]
  },
  {
   "cell_type": "code",
   "execution_count": 3,
   "id": "8efc5124-1ee5-4cde-a889-a77ff849e0b4",
   "metadata": {},
   "outputs": [],
   "source": [
    "results_df, _ = get_LesionWiseResults(pred_file, \n",
    "                      gt_file, \n",
    "                      challenge_name, \n",
    "                      output=None)"
   ]
  },
  {
   "cell_type": "code",
   "execution_count": 4,
   "id": "45f8116f-3a34-48ca-8653-ea0e0ac77200",
   "metadata": {},
   "outputs": [
    {
     "data": {
      "text/html": [
       "<div>\n",
       "<style scoped>\n",
       "    .dataframe tbody tr th:only-of-type {\n",
       "        vertical-align: middle;\n",
       "    }\n",
       "\n",
       "    .dataframe tbody tr th {\n",
       "        vertical-align: top;\n",
       "    }\n",
       "\n",
       "    .dataframe thead th {\n",
       "        text-align: right;\n",
       "    }\n",
       "</style>\n",
       "<table border=\"1\" class=\"dataframe\">\n",
       "  <thead>\n",
       "    <tr style=\"text-align: right;\">\n",
       "      <th></th>\n",
       "      <th>Labels</th>\n",
       "      <th>Num_TP</th>\n",
       "      <th>Num_FP</th>\n",
       "      <th>Num_FN</th>\n",
       "      <th>Sensitivity</th>\n",
       "      <th>Specificity</th>\n",
       "      <th>Legacy_Dice</th>\n",
       "      <th>Legacy_HD95</th>\n",
       "      <th>GT_Complete_Volume</th>\n",
       "      <th>LesionWise_Score_Dice</th>\n",
       "      <th>LesionWise_Score_HD95</th>\n",
       "    </tr>\n",
       "  </thead>\n",
       "  <tbody>\n",
       "    <tr>\n",
       "      <th>0</th>\n",
       "      <td>WT</td>\n",
       "      <td>1.0</td>\n",
       "      <td>0.0</td>\n",
       "      <td>0.0</td>\n",
       "      <td>0.896545</td>\n",
       "      <td>0.999885</td>\n",
       "      <td>0.926616</td>\n",
       "      <td>1.414214</td>\n",
       "      <td>21478.0</td>\n",
       "      <td>0.926616</td>\n",
       "      <td>1.414214</td>\n",
       "    </tr>\n",
       "    <tr>\n",
       "      <th>1</th>\n",
       "      <td>TC</td>\n",
       "      <td>1.0</td>\n",
       "      <td>0.0</td>\n",
       "      <td>0.0</td>\n",
       "      <td>0.808294</td>\n",
       "      <td>0.999963</td>\n",
       "      <td>0.868217</td>\n",
       "      <td>2.236068</td>\n",
       "      <td>4919.0</td>\n",
       "      <td>0.868217</td>\n",
       "      <td>2.236068</td>\n",
       "    </tr>\n",
       "    <tr>\n",
       "      <th>2</th>\n",
       "      <td>ET</td>\n",
       "      <td>1.0</td>\n",
       "      <td>0.0</td>\n",
       "      <td>0.0</td>\n",
       "      <td>0.834613</td>\n",
       "      <td>0.999940</td>\n",
       "      <td>0.864871</td>\n",
       "      <td>2.236068</td>\n",
       "      <td>4559.0</td>\n",
       "      <td>0.864871</td>\n",
       "      <td>2.236068</td>\n",
       "    </tr>\n",
       "  </tbody>\n",
       "</table>\n",
       "</div>"
      ],
      "text/plain": [
       "  Labels  Num_TP  Num_FP  Num_FN  Sensitivity  Specificity  Legacy_Dice  \\\n",
       "0     WT     1.0     0.0     0.0     0.896545     0.999885     0.926616   \n",
       "1     TC     1.0     0.0     0.0     0.808294     0.999963     0.868217   \n",
       "2     ET     1.0     0.0     0.0     0.834613     0.999940     0.864871   \n",
       "\n",
       "   Legacy_HD95  GT_Complete_Volume  LesionWise_Score_Dice  \\\n",
       "0     1.414214             21478.0               0.926616   \n",
       "1     2.236068              4919.0               0.868217   \n",
       "2     2.236068              4559.0               0.864871   \n",
       "\n",
       "   LesionWise_Score_HD95  \n",
       "0               1.414214  \n",
       "1               2.236068  \n",
       "2               2.236068  "
      ]
     },
     "execution_count": 4,
     "metadata": {},
     "output_type": "execute_result"
    }
   ],
   "source": [
    "results_df"
   ]
  },
  {
   "cell_type": "code",
   "execution_count": null,
   "id": "8cdf695d-a54a-4822-828e-4a2ca6245adb",
   "metadata": {},
   "outputs": [],
   "source": []
  },
  {
   "cell_type": "code",
   "execution_count": null,
   "id": "cbcd14ee-1752-481d-a22b-ec3c22cc84ab",
   "metadata": {},
   "outputs": [],
   "source": []
  },
  {
   "cell_type": "code",
   "execution_count": null,
   "id": "8bdc4bdd-7fa4-4234-a7e9-6f4f883dbfcb",
   "metadata": {},
   "outputs": [],
   "source": []
  },
  {
   "cell_type": "code",
   "execution_count": null,
   "id": "0b20b9b2-bc9f-4902-8b34-6938644cd07f",
   "metadata": {},
   "outputs": [],
   "source": []
  },
  {
   "cell_type": "code",
   "execution_count": 2,
   "id": "ff3aeb5e-ac5f-4e2f-b0dd-c5d6d23e6ef3",
   "metadata": {},
   "outputs": [],
   "source": [
    "from natsort import natsorted\n",
    "from glob2 import glob\n",
    "from tqdm import tqdm\n",
    "from metrics_SSA import *"
   ]
  },
  {
   "cell_type": "code",
   "execution_count": 3,
   "id": "26068e2f-6339-4157-af4d-09710971d238",
   "metadata": {},
   "outputs": [],
   "source": [
    "gt_files = natsorted(glob(\"/Users/rsaluja/Documents/Cornell/research/projects/BraTS-2024/metrics/all_trials/GT/*nii.gz\"))\n",
    "pred_files = natsorted(glob(\"/Users/rsaluja/Documents/Cornell/research/projects/BraTS-2024/metrics/all_trials/Pred/*nii.gz\"))\n",
    "challenge_name = \"BraTS-SSA\""
   ]
  },
  {
   "cell_type": "code",
   "execution_count": 4,
   "id": "19e749c6-a087-495d-923f-464ee430ba37",
   "metadata": {},
   "outputs": [
    {
     "name": "stdout",
     "output_type": "stream",
     "text": [
      "397 397\n"
     ]
    }
   ],
   "source": [
    "print(len(gt_files), len(pred_files))"
   ]
  },
  {
   "cell_type": "code",
   "execution_count": 5,
   "id": "1e6ea35a-e51a-45d0-9a32-d8a7b5e7d7ff",
   "metadata": {},
   "outputs": [
    {
     "name": "stderr",
     "output_type": "stream",
     "text": [
      "  0%|▏                                                             | 1/397 [00:30<3:23:58, 30.90s/it]\n"
     ]
    },
    {
     "ename": "KeyboardInterrupt",
     "evalue": "",
     "output_type": "error",
     "traceback": [
      "\u001b[0;31m---------------------------------------------------------------------------\u001b[0m",
      "\u001b[0;31mKeyboardInterrupt\u001b[0m                         Traceback (most recent call last)",
      "\u001b[0;32m/var/folders/z5/dvktqwld62z2b__g25lrvplr0000gn/T/ipykernel_75246/1093281501.py\u001b[0m in \u001b[0;36m<module>\u001b[0;34m\u001b[0m\n\u001b[1;32m      2\u001b[0m     \u001b[0mgt_file\u001b[0m \u001b[0;34m=\u001b[0m \u001b[0mgt_files\u001b[0m\u001b[0;34m[\u001b[0m\u001b[0mi\u001b[0m\u001b[0;34m]\u001b[0m\u001b[0;34m\u001b[0m\u001b[0;34m\u001b[0m\u001b[0m\n\u001b[1;32m      3\u001b[0m     \u001b[0mpred_file\u001b[0m \u001b[0;34m=\u001b[0m \u001b[0mpred_files\u001b[0m\u001b[0;34m[\u001b[0m\u001b[0mi\u001b[0m\u001b[0;34m]\u001b[0m\u001b[0;34m\u001b[0m\u001b[0;34m\u001b[0m\u001b[0m\n\u001b[0;32m----> 4\u001b[0;31m     results_df, _ = get_LesionWiseResults(pred_file, \n\u001b[0m\u001b[1;32m      5\u001b[0m                       \u001b[0mgt_file\u001b[0m\u001b[0;34m,\u001b[0m\u001b[0;34m\u001b[0m\u001b[0;34m\u001b[0m\u001b[0m\n\u001b[1;32m      6\u001b[0m                       \u001b[0mchallenge_name\u001b[0m\u001b[0;34m,\u001b[0m\u001b[0;34m\u001b[0m\u001b[0;34m\u001b[0m\u001b[0m\n",
      "\u001b[0;32m~/Documents/Cornell/research/projects/BraTS-2025/metrics/BraTS-2024-Metrics/metrics_SSA.py\u001b[0m in \u001b[0;36mget_LesionWiseResults\u001b[0;34m(pred_file, gt_file, challenge_name, output)\u001b[0m\n\u001b[1;32m    290\u001b[0m     \u001b[0mfinal_metrics_dict\u001b[0m \u001b[0;34m=\u001b[0m \u001b[0;34m{\u001b[0m\u001b[0;34m}\u001b[0m\u001b[0;34m\u001b[0m\u001b[0;34m\u001b[0m\u001b[0m\n\u001b[1;32m    291\u001b[0m \u001b[0;34m\u001b[0m\u001b[0m\n\u001b[0;32m--> 292\u001b[0;31m     save_tmp_files(pred_file=pred_file, gt_file=gt_file,\n\u001b[0m\u001b[1;32m    293\u001b[0m                    dil_factor=dilation_factor)\n\u001b[1;32m    294\u001b[0m \u001b[0;34m\u001b[0m\u001b[0m\n",
      "\u001b[0;32m~/Documents/Cornell/research/projects/BraTS-2025/metrics/BraTS-2024-Metrics/metrics_SSA.py\u001b[0m in \u001b[0;36msave_tmp_files\u001b[0;34m(pred_file, gt_file, dil_factor)\u001b[0m\n\u001b[1;32m     72\u001b[0m             pred_img = nib.load(os.path.join(\n\u001b[1;32m     73\u001b[0m                 pred_out_dir, f\"{pred_base}_{t}.nii.gz\"))\n\u001b[0;32m---> 74\u001b[0;31m             pred_out_img = process_tissue_component(\n\u001b[0m\u001b[1;32m     75\u001b[0m                 pred_img.get_fdata(), pred_img.affine, dil_factor, lesion_volume_thresh=50)\n\u001b[1;32m     76\u001b[0m \u001b[0;34m\u001b[0m\u001b[0m\n",
      "\u001b[0;32m~/Documents/Cornell/research/projects/BraTS-2025/metrics/BraTS-2024-Metrics/BraTS_SegMetrics/processing.py\u001b[0m in \u001b[0;36mprocess_tissue_component\u001b[0;34m(tissue_mat, affine, dil_factor, lesion_volume_thresh)\u001b[0m\n\u001b[1;32m    107\u001b[0m \u001b[0;34m\u001b[0m\u001b[0m\n\u001b[1;32m    108\u001b[0m     \u001b[0;32mif\u001b[0m \u001b[0mlesion_volume_thresh\u001b[0m \u001b[0;32mis\u001b[0m \u001b[0;32mnot\u001b[0m \u001b[0;32mNone\u001b[0m\u001b[0;34m:\u001b[0m\u001b[0;34m\u001b[0m\u001b[0;34m\u001b[0m\u001b[0m\n\u001b[0;32m--> 109\u001b[0;31m         \u001b[0mlabels\u001b[0m\u001b[0;34m,\u001b[0m \u001b[0mcounts\u001b[0m \u001b[0;34m=\u001b[0m \u001b[0mnp\u001b[0m\u001b[0;34m.\u001b[0m\u001b[0munique\u001b[0m\u001b[0;34m(\u001b[0m\u001b[0mcombined\u001b[0m\u001b[0;34m,\u001b[0m \u001b[0mreturn_counts\u001b[0m\u001b[0;34m=\u001b[0m\u001b[0;32mTrue\u001b[0m\u001b[0;34m)\u001b[0m\u001b[0;34m\u001b[0m\u001b[0;34m\u001b[0m\u001b[0m\n\u001b[0m\u001b[1;32m    110\u001b[0m         \u001b[0mlabels_to_remove\u001b[0m \u001b[0;34m=\u001b[0m \u001b[0mlabels\u001b[0m\u001b[0;34m[\u001b[0m\u001b[0mcounts\u001b[0m \u001b[0;34m<=\u001b[0m \u001b[0mlesion_volume_thresh\u001b[0m\u001b[0;34m]\u001b[0m\u001b[0;34m\u001b[0m\u001b[0;34m\u001b[0m\u001b[0m\n\u001b[1;32m    111\u001b[0m         combined = np.where(\n",
      "\u001b[0;32m~/opt/anaconda3/lib/python3.9/site-packages/numpy/core/overrides.py\u001b[0m in \u001b[0;36munique\u001b[0;34m(*args, **kwargs)\u001b[0m\n",
      "\u001b[0;32m~/opt/anaconda3/lib/python3.9/site-packages/numpy/lib/arraysetops.py\u001b[0m in \u001b[0;36munique\u001b[0;34m(ar, return_index, return_inverse, return_counts, axis, equal_nan)\u001b[0m\n\u001b[1;32m    272\u001b[0m     \u001b[0mar\u001b[0m \u001b[0;34m=\u001b[0m \u001b[0mnp\u001b[0m\u001b[0;34m.\u001b[0m\u001b[0masanyarray\u001b[0m\u001b[0;34m(\u001b[0m\u001b[0mar\u001b[0m\u001b[0;34m)\u001b[0m\u001b[0;34m\u001b[0m\u001b[0;34m\u001b[0m\u001b[0m\n\u001b[1;32m    273\u001b[0m     \u001b[0;32mif\u001b[0m \u001b[0maxis\u001b[0m \u001b[0;32mis\u001b[0m \u001b[0;32mNone\u001b[0m\u001b[0;34m:\u001b[0m\u001b[0;34m\u001b[0m\u001b[0;34m\u001b[0m\u001b[0m\n\u001b[0;32m--> 274\u001b[0;31m         ret = _unique1d(ar, return_index, return_inverse, return_counts, \n\u001b[0m\u001b[1;32m    275\u001b[0m                         equal_nan=equal_nan)\n\u001b[1;32m    276\u001b[0m         \u001b[0;32mreturn\u001b[0m \u001b[0m_unpack_tuple\u001b[0m\u001b[0;34m(\u001b[0m\u001b[0mret\u001b[0m\u001b[0;34m)\u001b[0m\u001b[0;34m\u001b[0m\u001b[0;34m\u001b[0m\u001b[0m\n",
      "\u001b[0;32m~/opt/anaconda3/lib/python3.9/site-packages/numpy/lib/arraysetops.py\u001b[0m in \u001b[0;36m_unique1d\u001b[0;34m(ar, return_index, return_inverse, return_counts, equal_nan)\u001b[0m\n\u001b[1;32m    334\u001b[0m         \u001b[0maux\u001b[0m \u001b[0;34m=\u001b[0m \u001b[0mar\u001b[0m\u001b[0;34m[\u001b[0m\u001b[0mperm\u001b[0m\u001b[0;34m]\u001b[0m\u001b[0;34m\u001b[0m\u001b[0;34m\u001b[0m\u001b[0m\n\u001b[1;32m    335\u001b[0m     \u001b[0;32melse\u001b[0m\u001b[0;34m:\u001b[0m\u001b[0;34m\u001b[0m\u001b[0;34m\u001b[0m\u001b[0m\n\u001b[0;32m--> 336\u001b[0;31m         \u001b[0mar\u001b[0m\u001b[0;34m.\u001b[0m\u001b[0msort\u001b[0m\u001b[0;34m(\u001b[0m\u001b[0;34m)\u001b[0m\u001b[0;34m\u001b[0m\u001b[0;34m\u001b[0m\u001b[0m\n\u001b[0m\u001b[1;32m    337\u001b[0m         \u001b[0maux\u001b[0m \u001b[0;34m=\u001b[0m \u001b[0mar\u001b[0m\u001b[0;34m\u001b[0m\u001b[0;34m\u001b[0m\u001b[0m\n\u001b[1;32m    338\u001b[0m     \u001b[0mmask\u001b[0m \u001b[0;34m=\u001b[0m \u001b[0mnp\u001b[0m\u001b[0;34m.\u001b[0m\u001b[0mempty\u001b[0m\u001b[0;34m(\u001b[0m\u001b[0maux\u001b[0m\u001b[0;34m.\u001b[0m\u001b[0mshape\u001b[0m\u001b[0;34m,\u001b[0m \u001b[0mdtype\u001b[0m\u001b[0;34m=\u001b[0m\u001b[0mnp\u001b[0m\u001b[0;34m.\u001b[0m\u001b[0mbool_\u001b[0m\u001b[0;34m)\u001b[0m\u001b[0;34m\u001b[0m\u001b[0;34m\u001b[0m\u001b[0m\n",
      "\u001b[0;31mKeyboardInterrupt\u001b[0m: "
     ]
    }
   ],
   "source": [
    "for i in tqdm(range(len(gt_files))):\n",
    "    gt_file = gt_files[i]\n",
    "    pred_file = pred_files[i]\n",
    "    results_df, _ = get_LesionWiseResults(pred_file, \n",
    "                      gt_file, \n",
    "                      challenge_name, \n",
    "                      output=f\"./tmp_op/{i}_output.csv\")"
   ]
  },
  {
   "cell_type": "code",
   "execution_count": null,
   "id": "2a97f89d-30f7-49f7-8a98-2affebb17671",
   "metadata": {},
   "outputs": [],
   "source": []
  }
 ],
 "metadata": {
  "kernelspec": {
   "display_name": "Python 3 (ipykernel)",
   "language": "python",
   "name": "python3"
  },
  "language_info": {
   "codemirror_mode": {
    "name": "ipython",
    "version": 3
   },
   "file_extension": ".py",
   "mimetype": "text/x-python",
   "name": "python",
   "nbconvert_exporter": "python",
   "pygments_lexer": "ipython3",
   "version": "3.9.7"
  }
 },
 "nbformat": 4,
 "nbformat_minor": 5
}
